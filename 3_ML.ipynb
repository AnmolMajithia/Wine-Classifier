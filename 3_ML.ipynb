{
 "cells": [
  {
   "cell_type": "markdown",
   "id": "hired-cutting",
   "metadata": {},
   "source": [
    "# ML"
   ]
  },
  {
   "cell_type": "code",
   "execution_count": null,
   "id": "portuguese-webmaster",
   "metadata": {},
   "outputs": [],
   "source": [
    "import pandas as pd"
   ]
  },
  {
   "cell_type": "code",
   "execution_count": null,
   "id": "loose-premiere",
   "metadata": {},
   "outputs": [],
   "source": [
    "df = pd.read_csv('data/winemag-data-130k-v2.csv', index_col = 0)"
   ]
  },
  {
   "cell_type": "code",
   "execution_count": null,
   "id": "soviet-hunger",
   "metadata": {},
   "outputs": [],
   "source": [
    "# read descriptionlist"
   ]
  },
  {
   "cell_type": "code",
   "execution_count": null,
   "id": "sixth-cache",
   "metadata": {},
   "outputs": [],
   "source": [
    "from sklearn.feature_extraction.text import CountVectorizer\n",
    "from sklearn.feature_extraction.text import TfidfVectorizer\n",
    "from sklearn.metrics import classification_report"
   ]
  },
  {
   "cell_type": "markdown",
   "id": "normal-street",
   "metadata": {},
   "source": [
    "# Count Vectorizer"
   ]
  },
  {
   "cell_type": "markdown",
   "id": "opening-fifth",
   "metadata": {},
   "source": [
    "### Using most common 1500 words to make a prediction"
   ]
  },
  {
   "cell_type": "code",
   "execution_count": null,
   "id": "authorized-history",
   "metadata": {},
   "outputs": [],
   "source": [
    "max_features = 1500\n",
    "count_vectorizer = CountVectorizer(max_features=max_features)\n",
    "\n",
    "sparce_matrix = count_vectorizer.fit_transform(descriptionList)\n",
    "\n",
    "sparce_matrix = sparce_matrix.toarray()\n",
    "\n",
    "x = sparce_matrix\n",
    "y = df.iloc[:,13].values"
   ]
  },
  {
   "cell_type": "code",
   "execution_count": null,
   "id": "unsigned-deviation",
   "metadata": {},
   "outputs": [],
   "source": [
    "from sklearn.model_selection import train_test_split"
   ]
  },
  {
   "cell_type": "code",
   "execution_count": null,
   "id": "guilty-integral",
   "metadata": {},
   "outputs": [],
   "source": [
    "x_train, x_test, y_train, y_test = train_test_split(x, y, test_size = 0.3, random_state = 42)"
   ]
  },
  {
   "cell_type": "markdown",
   "id": "tight-browse",
   "metadata": {},
   "source": [
    "Applying Naive Bayes"
   ]
  },
  {
   "cell_type": "code",
   "execution_count": null,
   "id": "static-chart",
   "metadata": {},
   "outputs": [],
   "source": [
    "from sklearn.naive_bayes import GaussianNB\n",
    "nb = GaussianNB()\n",
    "nb.fit(x_train, y_train)"
   ]
  },
  {
   "cell_type": "markdown",
   "id": "eastern-performance",
   "metadata": {},
   "source": [
    "## Prediction (Count)"
   ]
  },
  {
   "cell_type": "code",
   "execution_count": null,
   "id": "gross-minute",
   "metadata": {},
   "outputs": [],
   "source": [
    "y_pred = nb.predict(x_test)\n",
    "print(\"Accuracy: {:.2f}%\".format(nb.score(y_pred.reshape(-1,1), y_test)*100))"
   ]
  },
  {
   "cell_type": "markdown",
   "id": "instrumental-respect",
   "metadata": {},
   "source": [
    "## Logistic Regression"
   ]
  },
  {
   "cell_type": "code",
   "execution_count": null,
   "id": "retired-stanford",
   "metadata": {},
   "outputs": [],
   "source": [
    "from sklearn.linear_model import LogisticRegression\n",
    "regressor = LogisticRegression()\n",
    "regressor.fit(x_train, y_train)"
   ]
  },
  {
   "cell_type": "markdown",
   "id": "violent-warning",
   "metadata": {},
   "source": [
    "## Prediction (Logistic Regression + Count)"
   ]
  },
  {
   "cell_type": "code",
   "execution_count": null,
   "id": "complimentary-message",
   "metadata": {},
   "outputs": [],
   "source": [
    "from sklearn.metrics import accuracy_score"
   ]
  },
  {
   "cell_type": "code",
   "execution_count": null,
   "id": "effective-overhead",
   "metadata": {},
   "outputs": [],
   "source": [
    "y_pred = regressor.predict(x_test)\n",
    "print(accuracy_score(y_test, y_pred))\n",
    "print(classification_report(y_test, y_pred))"
   ]
  },
  {
   "cell_type": "markdown",
   "id": "rapid-timber",
   "metadata": {},
   "source": [
    "# TFIDF Vectorizer"
   ]
  },
  {
   "cell_type": "code",
   "execution_count": null,
   "id": "worth-princess",
   "metadata": {},
   "outputs": [],
   "source": [
    "tfidf_vectorizer = TfidfVectorizer(max_features=max_features)\n",
    "\n",
    "sparce_matrix2 = tfidf_vectorizer.fit_transform(descriptionList)\n",
    "\n",
    "sparce_matrix2 = sparce_matrix2.toarray()\n",
    "\n",
    "x2 = sparce_matrix2\n",
    "y2 = df.iloc[:,13].values"
   ]
  },
  {
   "cell_type": "code",
   "execution_count": null,
   "id": "historic-ordinary",
   "metadata": {},
   "outputs": [],
   "source": [
    "x_train2, x_test2, y_train2, y_test2 = train_test_split(x2, y2, test_size = 0.3, random_state = 42)"
   ]
  },
  {
   "cell_type": "code",
   "execution_count": null,
   "id": "iraqi-stevens",
   "metadata": {},
   "outputs": [],
   "source": [
    "nb2 = GaussianNB()\n",
    "nb2.fit(x_train2, y_train2)"
   ]
  },
  {
   "cell_type": "markdown",
   "id": "specific-slovakia",
   "metadata": {},
   "source": [
    "## Prediction (TFIDF)"
   ]
  },
  {
   "cell_type": "code",
   "execution_count": null,
   "id": "certain-transmission",
   "metadata": {},
   "outputs": [],
   "source": [
    "y_pred2 = nb2.predict(x_test2)\n",
    "print(\"Accuracy: {:.2f}%\".format(nb2.score(y_pred2.reshape(-1,1), y_test2)*100))"
   ]
  },
  {
   "cell_type": "markdown",
   "id": "younger-physics",
   "metadata": {},
   "source": [
    "# Logistic Regression"
   ]
  },
  {
   "cell_type": "code",
   "execution_count": null,
   "id": "under-giving",
   "metadata": {},
   "outputs": [],
   "source": [
    "regressor2 = LogisticRegression()\n",
    "regressor2.fit(x_train2, y_train2)"
   ]
  },
  {
   "cell_type": "markdown",
   "id": "residential-pipeline",
   "metadata": {},
   "source": [
    "## Prediction (Logistic Regression + TFIDF)"
   ]
  },
  {
   "cell_type": "code",
   "execution_count": null,
   "id": "devoted-ethernet",
   "metadata": {},
   "outputs": [],
   "source": [
    "y_pred2 = regressor2.predict(x_test2)\n",
    "print(\"Accuracy: {:.2f}%\".format(regressor2.score(y_pred2.reshape(-1,1), y_test2)*100))"
   ]
  }
 ],
 "metadata": {
  "kernelspec": {
   "display_name": "Python 3",
   "language": "python",
   "name": "python3"
  },
  "language_info": {
   "codemirror_mode": {
    "name": "ipython",
    "version": 3
   },
   "file_extension": ".py",
   "mimetype": "text/x-python",
   "name": "python",
   "nbconvert_exporter": "python",
   "pygments_lexer": "ipython3",
   "version": "3.8.5"
  }
 },
 "nbformat": 4,
 "nbformat_minor": 5
}
