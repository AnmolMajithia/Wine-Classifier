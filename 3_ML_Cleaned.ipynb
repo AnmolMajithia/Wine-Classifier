{
 "cells": [
  {
   "cell_type": "markdown",
   "id": "hired-cutting",
   "metadata": {},
   "source": [
    "# ML"
   ]
  },
  {
   "cell_type": "code",
   "execution_count": 1,
   "id": "portuguese-webmaster",
   "metadata": {},
   "outputs": [],
   "source": [
    "import pandas as pd\n",
    "from sklearn.feature_extraction.text import CountVectorizer\n",
    "from sklearn.feature_extraction.text import TfidfVectorizer\n",
    "from sklearn.metrics import classification_report\n",
    "from sklearn.preprocessing import LabelEncoder\n",
    "from sklearn.model_selection import train_test_split\n",
    "from sklearn.linear_model import LogisticRegression\n",
    "from sklearn.metrics import accuracy_score"
   ]
  },
  {
   "cell_type": "code",
   "execution_count": 2,
   "id": "loose-premiere",
   "metadata": {},
   "outputs": [],
   "source": [
    "data = pd.read_csv('data/winemag-data-130k-v2.csv', index_col = 0)"
   ]
  },
  {
   "cell_type": "code",
   "execution_count": 3,
   "id": "precious-danish",
   "metadata": {},
   "outputs": [],
   "source": [
    "data = data[['variety', 'description', 'title']]\n",
    "data = data.dropna()\n",
    "data = data.reset_index()"
   ]
  },
  {
   "cell_type": "code",
   "execution_count": 4,
   "id": "soviet-hunger",
   "metadata": {},
   "outputs": [],
   "source": [
    "descriptionList = pd.read_pickle('data/description_list_title_desc_NA_dropped.pkl')[0].tolist()"
   ]
  },
  {
   "cell_type": "markdown",
   "id": "opening-fifth",
   "metadata": {},
   "source": [
    "#### Using most common 1500 words to make a prediction"
   ]
  },
  {
   "cell_type": "code",
   "execution_count": 6,
   "id": "authorized-history",
   "metadata": {},
   "outputs": [],
   "source": [
    "max_features = 1500\n",
    "count_vectorizer = CountVectorizer(max_features=max_features)\n",
    "\n",
    "sparce_matrix = count_vectorizer.fit_transform(descriptionList)\n",
    "\n",
    "sparce_matrix = sparce_matrix.toarray()\n",
    "\n",
    "x = sparce_matrix"
   ]
  },
  {
   "cell_type": "code",
   "execution_count": 7,
   "id": "crucial-excellence",
   "metadata": {},
   "outputs": [],
   "source": [
    "le = LabelEncoder()\n",
    "y = le.fit_transform(data['variety'])"
   ]
  },
  {
   "cell_type": "code",
   "execution_count": 10,
   "id": "guilty-integral",
   "metadata": {},
   "outputs": [],
   "source": [
    "x_train, x_test, y_train, y_test = train_test_split(x, y, test_size = 0.3, random_state = 42)"
   ]
  },
  {
   "cell_type": "markdown",
   "id": "instrumental-respect",
   "metadata": {},
   "source": [
    "#### Logistic Regression"
   ]
  },
  {
   "cell_type": "markdown",
   "id": "injured-conviction",
   "metadata": {},
   "source": [
    "Wait a long long time"
   ]
  },
  {
   "cell_type": "code",
   "execution_count": 13,
   "id": "retired-stanford",
   "metadata": {
    "collapsed": true
   },
   "outputs": [
    {
     "name": "stderr",
     "output_type": "stream",
     "text": [
      "/home/anmol/anaconda3/envs/wine/lib/python3.8/site-packages/sklearn/linear_model/_logistic.py:763: ConvergenceWarning: lbfgs failed to converge (status=1):\n",
      "STOP: TOTAL NO. of ITERATIONS REACHED LIMIT.\n",
      "\n",
      "Increase the number of iterations (max_iter) or scale the data as shown in:\n",
      "    https://scikit-learn.org/stable/modules/preprocessing.html\n",
      "Please also refer to the documentation for alternative solver options:\n",
      "    https://scikit-learn.org/stable/modules/linear_model.html#logistic-regression\n",
      "  n_iter_i = _check_optimize_result(\n"
     ]
    },
    {
     "data": {
      "text/plain": [
       "LogisticRegression()"
      ]
     },
     "execution_count": 13,
     "metadata": {},
     "output_type": "execute_result"
    }
   ],
   "source": [
    "regressor = LogisticRegression()\n",
    "regressor.fit(x_train, y_train)"
   ]
  },
  {
   "cell_type": "markdown",
   "id": "violent-warning",
   "metadata": {},
   "source": [
    "## Prediction (Logistic Regression + Count)"
   ]
  },
  {
   "cell_type": "code",
   "execution_count": 15,
   "id": "effective-overhead",
   "metadata": {},
   "outputs": [
    {
     "name": "stdout",
     "output_type": "stream",
     "text": [
      "Accuracy: 88.77%\n"
     ]
    }
   ],
   "source": [
    "y_pred = regressor.predict(x_test)\n",
    "#print(classification_report(y_test, y_pred))\n",
    "print(\"Accuracy: {:.2f}%\".format(accuracy_score(y_test, y_pred)*100))"
   ]
  },
  {
   "cell_type": "code",
   "execution_count": null,
   "id": "cleared-hydrogen",
   "metadata": {},
   "outputs": [],
   "source": []
  }
 ],
 "metadata": {
  "kernelspec": {
   "display_name": "Python 3",
   "language": "python",
   "name": "python3"
  },
  "language_info": {
   "codemirror_mode": {
    "name": "ipython",
    "version": 3
   },
   "file_extension": ".py",
   "mimetype": "text/x-python",
   "name": "python",
   "nbconvert_exporter": "python",
   "pygments_lexer": "ipython3",
   "version": "3.8.5"
  }
 },
 "nbformat": 4,
 "nbformat_minor": 5
}
